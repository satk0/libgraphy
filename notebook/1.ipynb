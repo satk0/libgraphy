{
 "cells": [
  {
   "cell_type": "code",
   "execution_count": 1,
   "id": "572385d5-bc13-4696-a6d2-90fce7814b2d",
   "metadata": {},
   "outputs": [
    {
     "name": "stdout",
     "output_type": "stream",
     "text": [
      "Processing /mnt/sda1/programs/external/MGR/libgraphy\n",
      "  Installing build dependencies ... \u001b[?25ldone\n",
      "\u001b[?25h  Getting requirements to build wheel ... \u001b[?25ldone\n",
      "\u001b[?25h  Preparing metadata (pyproject.toml) ... \u001b[?25ldone\n",
      "\u001b[?25hBuilding wheels for collected packages: libgraphy\n",
      "  Building wheel for libgraphy (pyproject.toml) ... \u001b[?25ldone\n",
      "\u001b[?25h  Created wheel for libgraphy: filename=libgraphy-0.0.1-py3-none-any.whl size=6625 sha256=2179444621c408b2269a99c084e6492f77de4615c4bfa17dde2a909bd71183a4\n",
      "  Stored in directory: /tmp/pip-ephem-wheel-cache-io8prlkm/wheels/12/81/f4/3bc6709c1179e5dc0ac759fcefc1bc58e5f1e20d97dd3a6c34\n",
      "Successfully built libgraphy\n",
      "Installing collected packages: libgraphy\n",
      "  Attempting uninstall: libgraphy\n",
      "    Found existing installation: libgraphy 0.0.1\n",
      "    Uninstalling libgraphy-0.0.1:\n",
      "      Successfully uninstalled libgraphy-0.0.1\n",
      "Successfully installed libgraphy-0.0.1\n",
      "\n",
      "\u001b[1m[\u001b[0m\u001b[34;49mnotice\u001b[0m\u001b[1;39;49m]\u001b[0m\u001b[39;49m A new release of pip is available: \u001b[0m\u001b[31;49m24.0\u001b[0m\u001b[39;49m -> \u001b[0m\u001b[32;49m24.1.2\u001b[0m\n",
      "\u001b[1m[\u001b[0m\u001b[34;49mnotice\u001b[0m\u001b[1;39;49m]\u001b[0m\u001b[39;49m To update, run: \u001b[0m\u001b[32;49mpython3 -m pip install --upgrade pip\u001b[0m\n",
      "Note: you may need to restart the kernel to use updated packages.\n"
     ]
    }
   ],
   "source": [
    "pip install /mnt/sda1/programs/external/MGR/libgraphy "
   ]
  },
  {
   "cell_type": "code",
   "execution_count": 2,
   "id": "f960fe3b-a6ad-4b70-8e71-f109624941ca",
   "metadata": {},
   "outputs": [
    {
     "name": "stdout",
     "output_type": "stream",
     "text": [
      "Requirement already satisfied: graphviz in ./venv/lib/python3.12/site-packages (0.20.3)\n",
      "\n",
      "\u001b[1m[\u001b[0m\u001b[34;49mnotice\u001b[0m\u001b[1;39;49m]\u001b[0m\u001b[39;49m A new release of pip is available: \u001b[0m\u001b[31;49m24.0\u001b[0m\u001b[39;49m -> \u001b[0m\u001b[32;49m24.1.2\u001b[0m\n",
      "\u001b[1m[\u001b[0m\u001b[34;49mnotice\u001b[0m\u001b[1;39;49m]\u001b[0m\u001b[39;49m To update, run: \u001b[0m\u001b[32;49mpython3 -m pip install --upgrade pip\u001b[0m\n",
      "Note: you may need to restart the kernel to use updated packages.\n"
     ]
    }
   ],
   "source": [
    "pip install graphviz"
   ]
  },
  {
   "cell_type": "code",
   "execution_count": 2,
   "id": "895915bf-d178-4336-91a6-aa551800a7b1",
   "metadata": {},
   "outputs": [],
   "source": [
    "import libgraphy.graph as lg\n",
    "from IPython.display import (\n",
    "    display, display_png, display_svg, display_latex\n",
    ")"
   ]
  },
  {
   "cell_type": "code",
   "execution_count": 4,
   "id": "028b52da-8739-4a7d-ac36-7d9fe1d90bda",
   "metadata": {},
   "outputs": [
    {
     "name": "stdout",
     "output_type": "stream",
     "text": [
      "0\n",
      "[<libgraphy.graph.Vertex object at 0x758484402510>]\n",
      "[<libgraphy.graph.Vertex object at 0x758484402510>]\n",
      "[<libgraphy.graph.Vertex object at 0x75848ad4d070>]\n",
      "True\n",
      "1\n"
     ]
    }
   ],
   "source": [
    "v1 = lg.Vertex(1)\n",
    "v2 = lg.Vertex(2)\n",
    "\n",
    "print(v1.value)\n",
    "v3 = v1 + v2\n",
    "v1 += v2\n",
    "v2 += v3\n",
    "v1[0] = v3\n",
    "print(v1.neighbors)\n",
    "print(v2.neighbors)\n",
    "print(v3.neighbors)\n",
    "print(v1.isConnected(v3))\n",
    "print(v3.name)"
   ]
  }
 ],
 "metadata": {
  "kernelspec": {
   "display_name": "myenv",
   "language": "python",
   "name": "myenv"
  },
  "language_info": {
   "codemirror_mode": {
    "name": "ipython",
    "version": 3
   },
   "file_extension": ".py",
   "mimetype": "text/x-python",
   "name": "python",
   "nbconvert_exporter": "python",
   "pygments_lexer": "ipython3",
   "version": "3.12.4"
  }
 },
 "nbformat": 4,
 "nbformat_minor": 5
}
